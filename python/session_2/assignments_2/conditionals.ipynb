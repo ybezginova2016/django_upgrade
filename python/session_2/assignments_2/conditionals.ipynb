{
 "cells": [
  {
   "attachments": {},
   "cell_type": "markdown",
   "metadata": {},
   "source": [
    "1. Write a program that prompts the user for a string and checks whether the string is a palindrome (i.e., the string reads the same forward and backward)."
   ]
  },
  {
   "cell_type": "code",
   "execution_count": 1,
   "outputs": [],
   "source": [
    "string_ex = 'mama'"
   ],
   "metadata": {
    "collapsed": false
   }
  },
  {
   "cell_type": "code",
   "execution_count": 3,
   "outputs": [
    {
     "data": {
      "text/plain": "'amam'"
     },
     "execution_count": 3,
     "metadata": {},
     "output_type": "execute_result"
    }
   ],
   "source": [
    "string_ex[::-1]"
   ],
   "metadata": {
    "collapsed": false
   }
  },
  {
   "cell_type": "code",
   "execution_count": 5,
   "metadata": {},
   "outputs": [
    {
     "name": "stdout",
     "output_type": "stream",
     "text": [
      "The string is not a palindrome\n"
     ]
    }
   ],
   "source": [
    "string = input(\"Enter a string: \")\n",
    "\n",
    "# Reverse the string\n",
    "reverse_string = string[::-1]\n",
    "\n",
    "# Check if the string is a palindrome\n",
    "if string == reverse_string:\n",
    "    print(\"The string is a palindrome\")\n",
    "else:\n",
    "    print(\"The string is not a palindrome\")"
   ]
  },
  {
   "cell_type": "code",
   "execution_count": 6,
   "outputs": [
    {
     "name": "stdout",
     "output_type": "stream",
     "text": [
      "The string is not a palindrome\n"
     ]
    }
   ],
   "source": [
    "try:\n",
    "    string = input(\"Enter a string: \")\n",
    "    # Convert input to lowercase and remove any spaces\n",
    "    string = string.lower().replace(\" \", \"\")\n",
    "    # Reverse the string\n",
    "    reverse_string = string[::-1]\n",
    "    # Check if the string is a palindrome\n",
    "    if string == reverse_string:\n",
    "        print(\"The string is a palindrome\")\n",
    "    else:\n",
    "        print(\"The string is not a palindrome\")\n",
    "except:\n",
    "    print(\"Invalid input! Please enter a string.\")"
   ],
   "metadata": {
    "collapsed": false
   }
  },
  {
   "attachments": {},
   "cell_type": "markdown",
   "metadata": {},
   "source": [
    "2. Write a program that takes in a list of integers and returns the sum of all even numbers in the list."
   ]
  },
  {
   "cell_type": "code",
   "execution_count": 26,
   "metadata": {},
   "outputs": [
    {
     "name": "stdout",
     "output_type": "stream",
     "text": [
      "Invalid input! Please enter a list of numbers in the format 1, 2, 3, etc.\n"
     ]
    }
   ],
   "source": [
    "# longer version\n",
    "list_numbers = input(\"Enter a row of numbers like 1, 2, 3, etc.: \")\n",
    "try:\n",
    "    # Convert input to a list of integers\n",
    "    numbers = list(map(int, list_numbers.split(\",\")))\n",
    "except:\n",
    "    print(\"Invalid input! Please enter a list of numbers in the format 1, 2, 3, etc.\")\n",
    "else:\n",
    "    even_numbers = []\n",
    "    for i in numbers:\n",
    "        if i % 2 == 0:\n",
    "            even_numbers.append(i)\n",
    "\n",
    "    even_sum = 0\n",
    "    for sum in even_numbers:\n",
    "        even_sum += sum\n",
    "\n",
    "    print('The sum of all even numbers in the list: ', even_sum)"
   ]
  },
  {
   "cell_type": "code",
   "execution_count": 30,
   "outputs": [
    {
     "ename": "TypeError",
     "evalue": "'int' object is not callable",
     "output_type": "error",
     "traceback": [
      "\u001B[1;31m---------------------------------------------------------------------------\u001B[0m",
      "\u001B[1;31mTypeError\u001B[0m                                 Traceback (most recent call last)",
      "Cell \u001B[1;32mIn[30], line 10\u001B[0m\n\u001B[0;32m      7\u001B[0m \u001B[38;5;28;01melse\u001B[39;00m:\n\u001B[0;32m      8\u001B[0m     \u001B[38;5;66;03m# Sum up even numbers in the list\u001B[39;00m\n\u001B[0;32m      9\u001B[0m     even_numbers \u001B[38;5;241m=\u001B[39m [num \u001B[38;5;28;01mfor\u001B[39;00m num \u001B[38;5;129;01min\u001B[39;00m numbers \u001B[38;5;28;01mif\u001B[39;00m num \u001B[38;5;241m%\u001B[39m \u001B[38;5;241m2\u001B[39m \u001B[38;5;241m==\u001B[39m \u001B[38;5;241m0\u001B[39m]\n\u001B[1;32m---> 10\u001B[0m     even_sum \u001B[38;5;241m=\u001B[39m \u001B[38;5;28;43msum\u001B[39;49m\u001B[43m(\u001B[49m\u001B[43meven_numbers\u001B[49m\u001B[43m)\u001B[49m\n\u001B[0;32m     12\u001B[0m     \u001B[38;5;28mprint\u001B[39m(\u001B[38;5;124m\"\u001B[39m\u001B[38;5;124mThe sum of even numbers in the list is:\u001B[39m\u001B[38;5;124m\"\u001B[39m, even_sum)\n",
      "\u001B[1;31mTypeError\u001B[0m: 'int' object is not callable"
     ]
    }
   ],
   "source": [
    "list_numbers = input(\"Enter a row of numbers like 1, 2, 3, etc.: \")\n",
    "# Convert input to a list of integers\n",
    "try:\n",
    "    numbers = list(map(int, list_numbers.split(\",\")))\n",
    "except:\n",
    "    print(\"Invalid input! Please enter a list of numbers in the format 1, 2, 3, etc.\")\n",
    "else:\n",
    "    # Sum up even numbers in the list\n",
    "    even_numbers = [num for num in numbers if num % 2 == 0]\n",
    "    even_sum = sum(even_numbers)\n",
    "\n",
    "    print(\"The sum of even numbers in the list is:\", even_sum)"
   ],
   "metadata": {
    "collapsed": false
   }
  },
  {
   "attachments": {},
   "cell_type": "markdown",
   "metadata": {},
   "source": [
    "3. Write a program that prompts the user for their age and checks whether they are old enough to vote (i.e., 18 years old or older)."
   ]
  },
  {
   "cell_type": "code",
   "execution_count": null,
   "metadata": {},
   "outputs": [],
   "source": []
  },
  {
   "attachments": {},
   "cell_type": "markdown",
   "metadata": {},
   "source": [
    "4. Write a program that takes in a list of integers and returns the largest number in the list that is also divisible by 3."
   ]
  },
  {
   "cell_type": "code",
   "execution_count": null,
   "metadata": {},
   "outputs": [],
   "source": []
  },
  {
   "attachments": {},
   "cell_type": "markdown",
   "metadata": {},
   "source": [
    "5. Write a program that prompts the user for a number and checks whether the number is a prime number (i.e., only divisible by 1 and itself)."
   ]
  },
  {
   "cell_type": "code",
   "execution_count": null,
   "metadata": {},
   "outputs": [],
   "source": []
  }
 ],
 "metadata": {
  "kernelspec": {
   "display_name": "Python 3",
   "language": "python",
   "name": "python3"
  },
  "language_info": {
   "name": "python",
   "version": "3.10.10"
  },
  "orig_nbformat": 4,
  "vscode": {
   "interpreter": {
    "hash": "f7a5be651532581cb44625d52e18aa1d390cab54bc6b51099d8c30bea9b68219"
   }
  }
 },
 "nbformat": 4,
 "nbformat_minor": 2
}
